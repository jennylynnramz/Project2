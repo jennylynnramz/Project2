{
 "cells": [
  {
   "cell_type": "code",
   "execution_count": 4,
   "metadata": {},
   "outputs": [
    {
     "ename": "ModuleNotFoundError",
     "evalue": "No module named 'config'",
     "output_type": "error",
     "traceback": [
      "\u001b[0;31m---------------------------------------------------------------------------\u001b[0m",
      "\u001b[0;31mModuleNotFoundError\u001b[0m                       Traceback (most recent call last)",
      "\u001b[0;32m<ipython-input-4-c0045384eb83>\u001b[0m in \u001b[0;36m<module>\u001b[0;34m\u001b[0m\n\u001b[1;32m      1\u001b[0m \u001b[0;32mimport\u001b[0m \u001b[0mrequests\u001b[0m\u001b[0;34m\u001b[0m\u001b[0;34m\u001b[0m\u001b[0m\n\u001b[0;32m----> 2\u001b[0;31m \u001b[0;32mfrom\u001b[0m \u001b[0mconfig\u001b[0m \u001b[0;32mimport\u001b[0m \u001b[0mapi_token\u001b[0m\u001b[0;34m\u001b[0m\u001b[0;34m\u001b[0m\u001b[0m\n\u001b[0m",
      "\u001b[0;31mModuleNotFoundError\u001b[0m: No module named 'config'"
     ]
    }
   ],
   "source": [
    "import requests\n",
    "from config import api_token"
   ]
  },
  {
   "cell_type": "code",
   "execution_count": 5,
   "metadata": {},
   "outputs": [],
   "source": [
    "json_url = 'https://data.sfgov.org/resource/5cei-gny5.json'"
   ]
  },
  {
   "cell_type": "code",
   "execution_count": 6,
   "metadata": {},
   "outputs": [],
   "source": [
    "geo_json_url = 'https://data.sfgov.org/resource/5cei-gny5.geojson'"
   ]
  },
  {
   "cell_type": "code",
   "execution_count": null,
   "metadata": {},
   "outputs": [],
   "source": []
  },
  {
   "cell_type": "code",
   "execution_count": 9,
   "metadata": {},
   "outputs": [
    {
     "ename": "NameError",
     "evalue": "name 'api_token' is not defined",
     "output_type": "error",
     "traceback": [
      "\u001b[0;31m---------------------------------------------------------------------------\u001b[0m",
      "\u001b[0;31mNameError\u001b[0m                                 Traceback (most recent call last)",
      "\u001b[0;32m<ipython-input-9-1eac61bb772f>\u001b[0m in \u001b[0;36m<module>\u001b[0;34m\u001b[0m\n\u001b[0;32m----> 1\u001b[0;31m \u001b[0mquery_url\u001b[0m \u001b[0;34m=\u001b[0m \u001b[0;34mf\"{json_url}$$app_token={api_token}\"\u001b[0m\u001b[0;34m\u001b[0m\u001b[0;34m\u001b[0m\u001b[0m\n\u001b[0m",
      "\u001b[0;31mNameError\u001b[0m: name 'api_token' is not defined"
     ]
    }
   ],
   "source": [
    "query_url = f\"{json_url}$$app_token={api_token}\""
   ]
  },
  {
   "cell_type": "raw",
   "metadata": {},
   "source": [
    "Eviction ID: eviction_id\n",
    "Address: address\n",
    "City: city\n",
    "State: state\n",
    "Eviction Notice Source Zipcode: zip\n",
    "File Date: file_date\n",
    "Non Payment: non_payment\n",
    "Breach: breach\n",
    "Nuisance: nuisance\n",
    "Illegal Use: illegal_use\n",
    "Failure to Sign Renewal: failure_to_sign_renewal\n",
    "Access Denial: access_denial\n",
    "Unapproved Subtenant: unapproved_subtenant\n",
    "Owner Move In: owner_move_in\n",
    "Demolition: demolition\n",
    "Capital Improvement: capital_improvement\n",
    "Substantial Rehab: substantial_rehab\n",
    "Ellis Act WithDrawal: ellis_act_withdrawal\n",
    "Condo Conversion: condo_conversion\n",
    "Roommate Same Unit: roommate_same_unit\n",
    "Other Cause: other_cause\n",
    "Late Payments: late_payments\n",
    "Lead Remediation: lead_remediation\n",
    "Development: development\n",
    "Good Samaritan Ends: good_samaritan_ends\n",
    "Constraints Date: constraints_date\n",
    "Supervisor District: supervisor_district\n",
    "Neighborhoods - Analysis Boundaries: neighborhood\n",
    "Location :client_location"
   ]
  },
  {
   "cell_type": "code",
   "execution_count": null,
   "metadata": {},
   "outputs": [],
   "source": []
  }
 ],
 "metadata": {
  "kernelspec": {
   "display_name": "Python 3",
   "language": "python",
   "name": "python3"
  },
  "language_info": {
   "codemirror_mode": {
    "name": "ipython",
    "version": 3
   },
   "file_extension": ".py",
   "mimetype": "text/x-python",
   "name": "python",
   "nbconvert_exporter": "python",
   "pygments_lexer": "ipython3",
   "version": "3.6.10"
  }
 },
 "nbformat": 4,
 "nbformat_minor": 4
}
